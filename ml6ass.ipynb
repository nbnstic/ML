{
 "cells": [
  {
   "cell_type": "code",
   "execution_count": 7,
   "id": "eef0a967-451f-4849-86d1-59db62b9b711",
   "metadata": {},
   "outputs": [],
   "source": [
    "import  numpy as np\n",
    "import pandas as pd"
   ]
  },
  {
   "cell_type": "code",
   "execution_count": 3,
   "id": "cb7ae104-9d9c-4393-a864-dad451d552d1",
   "metadata": {},
   "outputs": [],
   "source": [
    "df = np.loadtxt('https://raw.githubusercontent.com/jbrownlee/Datasets/master/pima-indians-diabetes.data.csv', delimiter = ',')"
   ]
  },
  {
   "cell_type": "code",
   "execution_count": 4,
   "id": "3add5aa9-7c26-45dc-800d-6fd933acbdcc",
   "metadata": {},
   "outputs": [
    {
     "data": {
      "text/plain": [
       "array([[  6.   , 148.   ,  72.   , ...,   0.627,  50.   ,   1.   ],\n",
       "       [  1.   ,  85.   ,  66.   , ...,   0.351,  31.   ,   0.   ],\n",
       "       [  8.   , 183.   ,  64.   , ...,   0.672,  32.   ,   1.   ],\n",
       "       ...,\n",
       "       [  5.   , 121.   ,  72.   , ...,   0.245,  30.   ,   0.   ],\n",
       "       [  1.   , 126.   ,  60.   , ...,   0.349,  47.   ,   1.   ],\n",
       "       [  1.   ,  93.   ,  70.   , ...,   0.315,  23.   ,   0.   ]])"
      ]
     },
     "execution_count": 4,
     "metadata": {},
     "output_type": "execute_result"
    }
   ],
   "source": [
    "df"
   ]
  },
  {
   "cell_type": "code",
   "execution_count": 9,
   "id": "cae44693-174c-45bc-a47c-0e45cda6076a",
   "metadata": {
    "scrolled": true
   },
   "outputs": [],
   "source": [
    "x = df[:, :8]  # Select the first 8 columns\n",
    "y = df[:, 8]   # Select the 9th column\n"
   ]
  },
  {
   "cell_type": "code",
   "execution_count": 10,
   "id": "5560d24e-2421-449c-93cb-9606f17c7642",
   "metadata": {},
   "outputs": [
    {
     "data": {
      "text/plain": [
       "(768, 8)"
      ]
     },
     "execution_count": 10,
     "metadata": {},
     "output_type": "execute_result"
    }
   ],
   "source": [
    "x.shape"
   ]
  },
  {
   "cell_type": "code",
   "execution_count": 11,
   "id": "dbdb7d88-5e34-4c0d-af35-546ae1ead970",
   "metadata": {},
   "outputs": [
    {
     "data": {
      "text/plain": [
       "array([1., 0., 1., 0., 1., 0., 1., 0., 1., 1., 0., 1., 0., 1., 1., 1., 1.,\n",
       "       1., 0., 1., 0., 0., 1., 1., 1., 1., 1., 0., 0., 0., 0., 1., 0., 0.,\n",
       "       0., 0., 0., 1., 1., 1., 0., 0., 0., 1., 0., 1., 0., 0., 1., 0., 0.,\n",
       "       0., 0., 1., 0., 0., 1., 0., 0., 0., 0., 1., 0., 0., 1., 0., 1., 0.,\n",
       "       0., 0., 1., 0., 1., 0., 0., 0., 0., 0., 1., 0., 0., 0., 0., 0., 1.,\n",
       "       0., 0., 0., 1., 0., 0., 0., 0., 1., 0., 0., 0., 0., 0., 1., 1., 0.,\n",
       "       0., 0., 0., 0., 0., 0., 0., 1., 1., 1., 0., 0., 1., 1., 1., 0., 0.,\n",
       "       0., 1., 0., 0., 0., 1., 1., 0., 0., 1., 1., 1., 1., 1., 0., 0., 0.,\n",
       "       0., 0., 0., 0., 0., 0., 0., 1., 0., 0., 0., 0., 0., 0., 0., 0., 1.,\n",
       "       0., 1., 1., 0., 0., 0., 1., 0., 0., 0., 0., 1., 1., 0., 0., 0., 0.,\n",
       "       1., 1., 0., 0., 0., 1., 0., 1., 0., 1., 0., 0., 0., 0., 0., 1., 1.,\n",
       "       1., 1., 1., 0., 0., 1., 1., 0., 1., 0., 1., 1., 1., 0., 0., 0., 0.,\n",
       "       0., 0., 1., 1., 0., 1., 0., 0., 0., 1., 1., 1., 1., 0., 1., 1., 1.,\n",
       "       1., 0., 0., 0., 0., 0., 1., 0., 0., 1., 1., 0., 0., 0., 1., 1., 1.,\n",
       "       1., 0., 0., 0., 1., 1., 0., 1., 0., 0., 0., 0., 0., 0., 0., 0., 1.,\n",
       "       1., 0., 0., 0., 1., 0., 1., 0., 0., 1., 0., 1., 0., 0., 1., 1., 0.,\n",
       "       0., 0., 0., 0., 1., 0., 0., 0., 1., 0., 0., 1., 1., 0., 0., 1., 0.,\n",
       "       0., 0., 1., 1., 1., 0., 0., 1., 0., 1., 0., 1., 1., 0., 1., 0., 0.,\n",
       "       1., 0., 1., 1., 0., 0., 1., 0., 1., 0., 0., 1., 0., 1., 0., 1., 1.,\n",
       "       1., 0., 0., 1., 0., 1., 0., 0., 0., 1., 0., 0., 0., 0., 1., 1., 1.,\n",
       "       0., 0., 0., 0., 0., 0., 0., 0., 0., 1., 0., 0., 0., 0., 0., 1., 1.,\n",
       "       1., 0., 1., 1., 0., 0., 1., 0., 0., 1., 0., 0., 1., 1., 0., 0., 0.,\n",
       "       0., 1., 0., 0., 1., 0., 0., 0., 0., 0., 0., 0., 1., 1., 1., 0., 0.,\n",
       "       1., 0., 0., 1., 0., 0., 1., 0., 1., 1., 0., 1., 0., 1., 0., 1., 0.,\n",
       "       1., 1., 0., 0., 0., 0., 1., 1., 0., 1., 0., 1., 0., 0., 0., 0., 1.,\n",
       "       1., 0., 1., 0., 1., 0., 0., 0., 0., 0., 1., 0., 0., 0., 0., 1., 0.,\n",
       "       0., 1., 1., 1., 0., 0., 1., 0., 0., 1., 0., 0., 0., 1., 0., 0., 1.,\n",
       "       0., 0., 0., 0., 0., 0., 0., 0., 0., 1., 0., 0., 0., 0., 0., 0., 0.,\n",
       "       1., 0., 0., 0., 1., 0., 0., 0., 1., 1., 0., 0., 0., 0., 0., 0., 0.,\n",
       "       1., 0., 0., 0., 0., 1., 0., 0., 0., 1., 0., 0., 0., 1., 0., 0., 0.,\n",
       "       1., 0., 0., 0., 0., 1., 1., 0., 0., 0., 0., 0., 0., 1., 0., 0., 0.,\n",
       "       0., 0., 0., 0., 0., 0., 0., 0., 1., 0., 0., 0., 1., 1., 1., 1., 0.,\n",
       "       0., 1., 1., 0., 0., 0., 0., 0., 0., 0., 0., 0., 0., 0., 0., 0., 1.,\n",
       "       1., 0., 0., 0., 0., 0., 0., 0., 1., 0., 0., 0., 0., 0., 0., 0., 1.,\n",
       "       0., 1., 1., 0., 0., 0., 1., 0., 1., 0., 1., 0., 1., 0., 1., 0., 0.,\n",
       "       1., 0., 0., 1., 0., 0., 0., 0., 1., 1., 0., 1., 0., 0., 0., 0., 1.,\n",
       "       1., 0., 1., 0., 0., 0., 1., 1., 0., 0., 0., 0., 0., 0., 0., 0., 0.,\n",
       "       0., 1., 0., 0., 0., 0., 1., 0., 0., 1., 0., 0., 0., 1., 0., 0., 0.,\n",
       "       1., 1., 1., 0., 0., 0., 0., 0., 0., 1., 0., 0., 0., 1., 0., 1., 1.,\n",
       "       1., 1., 0., 1., 1., 0., 0., 0., 0., 0., 0., 0., 1., 1., 0., 1., 0.,\n",
       "       0., 1., 0., 1., 0., 0., 0., 0., 0., 1., 0., 1., 0., 1., 0., 1., 1.,\n",
       "       0., 0., 0., 0., 1., 1., 0., 0., 0., 1., 0., 1., 1., 0., 0., 1., 0.,\n",
       "       0., 1., 1., 0., 0., 1., 0., 0., 1., 0., 0., 0., 0., 0., 0., 0., 1.,\n",
       "       1., 1., 0., 0., 0., 0., 0., 0., 1., 1., 0., 0., 1., 0., 0., 1., 0.,\n",
       "       1., 1., 1., 0., 0., 1., 1., 1., 0., 1., 0., 1., 0., 1., 0., 0., 0.,\n",
       "       0., 1., 0.])"
      ]
     },
     "execution_count": 11,
     "metadata": {},
     "output_type": "execute_result"
    }
   ],
   "source": [
    "y"
   ]
  },
  {
   "cell_type": "code",
   "execution_count": 13,
   "id": "bc621713-d9ef-425b-be78-e999b14d926c",
   "metadata": {},
   "outputs": [
    {
     "data": {
      "text/plain": [
       "Counter({0.0: 500, 1.0: 268})"
      ]
     },
     "execution_count": 13,
     "metadata": {},
     "output_type": "execute_result"
    }
   ],
   "source": [
    "from collections import Counter\n",
    "Counter(y)"
   ]
  },
  {
   "cell_type": "code",
   "execution_count": 19,
   "id": "4382746d-2a6a-4fe6-b1ea-dc567e1380d7",
   "metadata": {},
   "outputs": [],
   "source": [
    "from tensorflow.keras.models import Sequential\n",
    "from tensorflow.keras.layers import Dense"
   ]
  },
  {
   "cell_type": "code",
   "execution_count": 21,
   "id": "a7f663d2-4060-49c7-bfeb-2a2012562675",
   "metadata": {},
   "outputs": [],
   "source": [
    "model = Sequential()"
   ]
  },
  {
   "cell_type": "code",
   "execution_count": null,
   "id": "5c150d0f-e943-4ba0-91f5-eb55cb8f6453",
   "metadata": {},
   "outputs": [],
   "source": [
    "#input layer\n",
    "model.add(Dense(12, input_dim=8, activation='relu'))\n",
    "\n",
    "#hidden layer\n",
    "model.add(Dense(8, activation='relu'))\n",
    "model.add(Dense(8, activation='relu'))\n",
    "\n",
    "#output layer\n",
    "model.add(Dense(1, activation='sigmoid'))"
   ]
  },
  {
   "cell_type": "code",
   "execution_count": null,
   "id": "a2783d85-5811-4020-9d23-20d937c2f94c",
   "metadata": {},
   "outputs": [],
   "source": [
    "model.compile(loss='binary_crossentropy', optimizer='adam', metrics=['accuracy'])\n"
   ]
  },
  {
   "cell_type": "code",
   "execution_count": 47,
   "id": "f3a1a65e-0f63-4e9d-8f51-b3aa515b9e5f",
   "metadata": {},
   "outputs": [
    {
     "name": "stdout",
     "output_type": "stream",
     "text": [
      "Epoch 1/100\n",
      "8/8 [==============================] - 2s 4ms/step - loss: 5.3827 - accuracy: 0.6510\n",
      "Epoch 2/100\n",
      "8/8 [==============================] - 0s 4ms/step - loss: 5.3827 - accuracy: 0.6510\n",
      "Epoch 3/100\n",
      "8/8 [==============================] - 0s 5ms/step - loss: 5.3827 - accuracy: 0.6510\n",
      "Epoch 4/100\n",
      "8/8 [==============================] - 0s 4ms/step - loss: 5.3827 - accuracy: 0.6510\n",
      "Epoch 5/100\n",
      "8/8 [==============================] - 0s 4ms/step - loss: 5.3827 - accuracy: 0.6510\n",
      "Epoch 6/100\n",
      "8/8 [==============================] - 0s 4ms/step - loss: 5.3827 - accuracy: 0.6510\n",
      "Epoch 7/100\n",
      "8/8 [==============================] - 0s 4ms/step - loss: 5.3827 - accuracy: 0.6510\n",
      "Epoch 8/100\n",
      "8/8 [==============================] - 0s 4ms/step - loss: 5.3827 - accuracy: 0.6510\n",
      "Epoch 9/100\n",
      "8/8 [==============================] - 0s 4ms/step - loss: 5.3827 - accuracy: 0.6510\n",
      "Epoch 10/100\n",
      "8/8 [==============================] - 0s 4ms/step - loss: 5.3827 - accuracy: 0.6510\n",
      "Epoch 11/100\n",
      "8/8 [==============================] - 0s 4ms/step - loss: 5.3827 - accuracy: 0.6510\n",
      "Epoch 12/100\n",
      "8/8 [==============================] - 0s 4ms/step - loss: 5.3827 - accuracy: 0.6510\n",
      "Epoch 13/100\n",
      "8/8 [==============================] - 0s 4ms/step - loss: 5.3827 - accuracy: 0.6510\n",
      "Epoch 14/100\n",
      "8/8 [==============================] - 0s 4ms/step - loss: 5.3827 - accuracy: 0.6510\n",
      "Epoch 15/100\n",
      "8/8 [==============================] - 0s 3ms/step - loss: 5.3827 - accuracy: 0.6510\n",
      "Epoch 16/100\n",
      "8/8 [==============================] - 0s 4ms/step - loss: 5.3827 - accuracy: 0.6510\n",
      "Epoch 17/100\n",
      "8/8 [==============================] - 0s 4ms/step - loss: 5.3827 - accuracy: 0.6510\n",
      "Epoch 18/100\n",
      "8/8 [==============================] - 0s 4ms/step - loss: 5.3827 - accuracy: 0.6510\n",
      "Epoch 19/100\n",
      "8/8 [==============================] - 0s 4ms/step - loss: 5.3827 - accuracy: 0.6510\n",
      "Epoch 20/100\n",
      "8/8 [==============================] - 0s 3ms/step - loss: 5.3827 - accuracy: 0.6510\n",
      "Epoch 21/100\n",
      "8/8 [==============================] - 0s 4ms/step - loss: 5.3827 - accuracy: 0.6510\n",
      "Epoch 22/100\n",
      "8/8 [==============================] - 0s 3ms/step - loss: 5.3827 - accuracy: 0.6510\n",
      "Epoch 23/100\n",
      "8/8 [==============================] - 0s 4ms/step - loss: 5.3827 - accuracy: 0.6510\n",
      "Epoch 24/100\n",
      "8/8 [==============================] - 0s 4ms/step - loss: 5.3827 - accuracy: 0.6510\n",
      "Epoch 25/100\n",
      "8/8 [==============================] - 0s 3ms/step - loss: 5.3827 - accuracy: 0.6510\n",
      "Epoch 26/100\n",
      "8/8 [==============================] - 0s 3ms/step - loss: 5.3827 - accuracy: 0.6510\n",
      "Epoch 27/100\n",
      "8/8 [==============================] - 0s 4ms/step - loss: 5.3827 - accuracy: 0.6510\n",
      "Epoch 28/100\n",
      "8/8 [==============================] - 0s 3ms/step - loss: 5.3827 - accuracy: 0.6510\n",
      "Epoch 29/100\n",
      "8/8 [==============================] - 0s 4ms/step - loss: 5.3827 - accuracy: 0.6510\n",
      "Epoch 30/100\n",
      "8/8 [==============================] - 0s 4ms/step - loss: 5.3827 - accuracy: 0.6510\n",
      "Epoch 31/100\n",
      "8/8 [==============================] - 0s 4ms/step - loss: 5.3827 - accuracy: 0.6510\n",
      "Epoch 32/100\n",
      "8/8 [==============================] - 0s 4ms/step - loss: 5.3827 - accuracy: 0.6510\n",
      "Epoch 33/100\n",
      "8/8 [==============================] - 0s 4ms/step - loss: 5.3827 - accuracy: 0.6510\n",
      "Epoch 34/100\n",
      "8/8 [==============================] - 0s 4ms/step - loss: 5.3827 - accuracy: 0.6510\n",
      "Epoch 35/100\n",
      "8/8 [==============================] - 0s 4ms/step - loss: 5.3827 - accuracy: 0.6510\n",
      "Epoch 36/100\n",
      "8/8 [==============================] - 0s 4ms/step - loss: 5.3827 - accuracy: 0.6510\n",
      "Epoch 37/100\n",
      "8/8 [==============================] - 0s 4ms/step - loss: 5.3827 - accuracy: 0.6510\n",
      "Epoch 38/100\n",
      "8/8 [==============================] - 0s 3ms/step - loss: 5.3827 - accuracy: 0.6510\n",
      "Epoch 39/100\n",
      "8/8 [==============================] - 0s 4ms/step - loss: 5.3827 - accuracy: 0.6510\n",
      "Epoch 40/100\n",
      "8/8 [==============================] - 0s 3ms/step - loss: 5.3827 - accuracy: 0.6510\n",
      "Epoch 41/100\n",
      "8/8 [==============================] - 0s 3ms/step - loss: 5.3827 - accuracy: 0.6510\n",
      "Epoch 42/100\n",
      "8/8 [==============================] - 0s 4ms/step - loss: 5.3827 - accuracy: 0.6510\n",
      "Epoch 43/100\n",
      "8/8 [==============================] - 0s 4ms/step - loss: 5.3827 - accuracy: 0.6510\n",
      "Epoch 44/100\n",
      "8/8 [==============================] - 0s 6ms/step - loss: 5.3827 - accuracy: 0.6510\n",
      "Epoch 45/100\n",
      "8/8 [==============================] - 0s 6ms/step - loss: 5.3827 - accuracy: 0.6510\n",
      "Epoch 46/100\n",
      "8/8 [==============================] - 0s 6ms/step - loss: 5.3827 - accuracy: 0.6510\n",
      "Epoch 47/100\n",
      "8/8 [==============================] - 0s 6ms/step - loss: 5.3827 - accuracy: 0.6510\n",
      "Epoch 48/100\n",
      "8/8 [==============================] - 0s 9ms/step - loss: 5.3827 - accuracy: 0.6510\n",
      "Epoch 49/100\n",
      "8/8 [==============================] - 0s 6ms/step - loss: 5.3827 - accuracy: 0.6510\n",
      "Epoch 50/100\n",
      "8/8 [==============================] - 0s 6ms/step - loss: 5.3827 - accuracy: 0.6510\n",
      "Epoch 51/100\n",
      "8/8 [==============================] - 0s 6ms/step - loss: 5.3827 - accuracy: 0.6510\n",
      "Epoch 52/100\n",
      "8/8 [==============================] - 0s 6ms/step - loss: 5.3827 - accuracy: 0.6510\n",
      "Epoch 53/100\n",
      "8/8 [==============================] - 0s 6ms/step - loss: 5.3827 - accuracy: 0.6510\n",
      "Epoch 54/100\n",
      "8/8 [==============================] - 0s 6ms/step - loss: 5.3827 - accuracy: 0.6510\n",
      "Epoch 55/100\n",
      "8/8 [==============================] - 0s 6ms/step - loss: 5.3827 - accuracy: 0.6510\n",
      "Epoch 56/100\n",
      "8/8 [==============================] - 0s 6ms/step - loss: 5.3827 - accuracy: 0.6510\n",
      "Epoch 57/100\n",
      "8/8 [==============================] - 0s 5ms/step - loss: 5.3827 - accuracy: 0.6510\n",
      "Epoch 58/100\n",
      "8/8 [==============================] - 0s 6ms/step - loss: 5.3827 - accuracy: 0.6510\n",
      "Epoch 59/100\n",
      "8/8 [==============================] - 0s 6ms/step - loss: 5.3827 - accuracy: 0.6510\n",
      "Epoch 60/100\n",
      "8/8 [==============================] - 0s 5ms/step - loss: 5.3827 - accuracy: 0.6510\n",
      "Epoch 61/100\n",
      "8/8 [==============================] - 0s 6ms/step - loss: 5.3827 - accuracy: 0.6510\n",
      "Epoch 62/100\n",
      "8/8 [==============================] - 0s 6ms/step - loss: 5.3827 - accuracy: 0.6510\n",
      "Epoch 63/100\n",
      "8/8 [==============================] - 0s 5ms/step - loss: 5.3827 - accuracy: 0.6510\n",
      "Epoch 64/100\n",
      "8/8 [==============================] - 0s 6ms/step - loss: 5.3827 - accuracy: 0.6510\n",
      "Epoch 65/100\n",
      "8/8 [==============================] - 0s 6ms/step - loss: 5.3827 - accuracy: 0.6510\n",
      "Epoch 66/100\n",
      "8/8 [==============================] - 0s 6ms/step - loss: 5.3827 - accuracy: 0.6510\n",
      "Epoch 67/100\n",
      "8/8 [==============================] - 0s 6ms/step - loss: 5.3827 - accuracy: 0.6510\n",
      "Epoch 68/100\n",
      "8/8 [==============================] - 0s 6ms/step - loss: 5.3827 - accuracy: 0.6510\n",
      "Epoch 69/100\n",
      "8/8 [==============================] - 0s 6ms/step - loss: 5.3827 - accuracy: 0.6510\n",
      "Epoch 70/100\n",
      "8/8 [==============================] - 0s 6ms/step - loss: 5.3827 - accuracy: 0.6510\n",
      "Epoch 71/100\n",
      "8/8 [==============================] - 0s 6ms/step - loss: 5.3827 - accuracy: 0.6510\n",
      "Epoch 72/100\n",
      "8/8 [==============================] - 0s 6ms/step - loss: 5.3827 - accuracy: 0.6510\n",
      "Epoch 73/100\n",
      "8/8 [==============================] - 0s 5ms/step - loss: 5.3827 - accuracy: 0.6510\n",
      "Epoch 74/100\n",
      "8/8 [==============================] - 0s 6ms/step - loss: 5.3827 - accuracy: 0.6510\n",
      "Epoch 75/100\n",
      "8/8 [==============================] - 0s 5ms/step - loss: 5.3827 - accuracy: 0.6510\n",
      "Epoch 76/100\n",
      "8/8 [==============================] - 0s 9ms/step - loss: 5.3827 - accuracy: 0.6510\n",
      "Epoch 77/100\n",
      "8/8 [==============================] - 0s 6ms/step - loss: 5.3827 - accuracy: 0.6510\n",
      "Epoch 78/100\n",
      "8/8 [==============================] - 0s 6ms/step - loss: 5.3827 - accuracy: 0.6510\n",
      "Epoch 79/100\n",
      "8/8 [==============================] - 0s 5ms/step - loss: 5.3827 - accuracy: 0.6510\n",
      "Epoch 80/100\n",
      "8/8 [==============================] - 0s 6ms/step - loss: 5.3827 - accuracy: 0.6510\n",
      "Epoch 81/100\n",
      "8/8 [==============================] - 0s 5ms/step - loss: 5.3827 - accuracy: 0.6510\n",
      "Epoch 82/100\n",
      "8/8 [==============================] - 0s 6ms/step - loss: 5.3827 - accuracy: 0.6510\n",
      "Epoch 83/100\n",
      "8/8 [==============================] - 0s 5ms/step - loss: 5.3827 - accuracy: 0.6510\n",
      "Epoch 84/100\n",
      "8/8 [==============================] - 0s 6ms/step - loss: 5.3827 - accuracy: 0.6510\n",
      "Epoch 85/100\n",
      "8/8 [==============================] - 0s 6ms/step - loss: 5.3827 - accuracy: 0.6510\n",
      "Epoch 86/100\n",
      "8/8 [==============================] - 0s 5ms/step - loss: 5.3827 - accuracy: 0.6510\n",
      "Epoch 87/100\n",
      "8/8 [==============================] - 0s 5ms/step - loss: 5.3827 - accuracy: 0.6510\n",
      "Epoch 88/100\n",
      "8/8 [==============================] - 0s 6ms/step - loss: 5.3827 - accuracy: 0.6510\n",
      "Epoch 89/100\n",
      "8/8 [==============================] - 0s 5ms/step - loss: 5.3827 - accuracy: 0.6510\n",
      "Epoch 90/100\n",
      "8/8 [==============================] - 0s 4ms/step - loss: 5.3827 - accuracy: 0.6510\n",
      "Epoch 91/100\n",
      "8/8 [==============================] - 0s 4ms/step - loss: 5.3827 - accuracy: 0.6510\n",
      "Epoch 92/100\n",
      "8/8 [==============================] - 0s 3ms/step - loss: 5.3827 - accuracy: 0.6510\n",
      "Epoch 93/100\n",
      "8/8 [==============================] - 0s 3ms/step - loss: 5.3827 - accuracy: 0.6510\n",
      "Epoch 94/100\n",
      "8/8 [==============================] - 0s 3ms/step - loss: 5.3827 - accuracy: 0.6510\n",
      "Epoch 95/100\n",
      "8/8 [==============================] - 0s 3ms/step - loss: 5.3827 - accuracy: 0.6510\n",
      "Epoch 96/100\n",
      "8/8 [==============================] - 0s 3ms/step - loss: 5.3827 - accuracy: 0.6510\n",
      "Epoch 97/100\n",
      "8/8 [==============================] - 0s 3ms/step - loss: 5.3827 - accuracy: 0.6510\n",
      "Epoch 98/100\n",
      "8/8 [==============================] - 0s 3ms/step - loss: 5.3827 - accuracy: 0.6510\n",
      "Epoch 99/100\n",
      "8/8 [==============================] - 0s 3ms/step - loss: 5.3827 - accuracy: 0.6510\n",
      "Epoch 100/100\n",
      "8/8 [==============================] - 0s 3ms/step - loss: 5.3827 - accuracy: 0.6510\n"
     ]
    },
    {
     "data": {
      "text/plain": [
       "<keras.src.callbacks.History at 0x7f05cddcfdc0>"
      ]
     },
     "execution_count": 47,
     "metadata": {},
     "output_type": "execute_result"
    }
   ],
   "source": [
    "model.fit(x, y, epochs=100, batch_size=100)\n"
   ]
  },
  {
   "cell_type": "code",
   "execution_count": 48,
   "id": "c1867f9a-940f-4a1f-a0ae-4e1e62386e02",
   "metadata": {},
   "outputs": [
    {
     "name": "stdout",
     "output_type": "stream",
     "text": [
      "24/24 [==============================] - 0s 2ms/step - loss: 5.3827 - accuracy: 0.6510\n"
     ]
    },
    {
     "data": {
      "text/plain": [
       "[5.382665157318115, 0.6510416865348816]"
      ]
     },
     "execution_count": 48,
     "metadata": {},
     "output_type": "execute_result"
    }
   ],
   "source": [
    "model.evaluate(x, y)"
   ]
  },
  {
   "cell_type": "code",
   "execution_count": 49,
   "id": "be5e2e22-5d6d-43e2-8e88-24a8df406c5c",
   "metadata": {},
   "outputs": [
    {
     "name": "stdout",
     "output_type": "stream",
     "text": [
      "Model: \"sequential\"\n",
      "_________________________________________________________________\n",
      " Layer (type)                Output Shape              Param #   \n",
      "=================================================================\n",
      " dense (Dense)               (None, 12)                108       \n",
      "                                                                 \n",
      " dense_1 (Dense)             (None, 12)                156       \n",
      "                                                                 \n",
      " dense_2 (Dense)             (None, 12)                156       \n",
      "                                                                 \n",
      " dense_3 (Dense)             (None, 8)                 104       \n",
      "                                                                 \n",
      " dense_4 (Dense)             (None, 8)                 72        \n",
      "                                                                 \n",
      " dense_5 (Dense)             (None, 12)                108       \n",
      "                                                                 \n",
      " dense_6 (Dense)             (None, 8)                 104       \n",
      "                                                                 \n",
      " dense_7 (Dense)             (None, 8)                 72        \n",
      "                                                                 \n",
      " dense_8 (Dense)             (None, 1)                 9         \n",
      "                                                                 \n",
      " dense_9 (Dense)             (None, 12)                24        \n",
      "                                                                 \n",
      " dense_10 (Dense)            (None, 8)                 104       \n",
      "                                                                 \n",
      " dense_11 (Dense)            (None, 8)                 72        \n",
      "                                                                 \n",
      " dense_12 (Dense)            (None, 1)                 9         \n",
      "                                                                 \n",
      " dense_13 (Dense)            (None, 12)                24        \n",
      "                                                                 \n",
      " dense_14 (Dense)            (None, 8)                 104       \n",
      "                                                                 \n",
      " dense_15 (Dense)            (None, 8)                 72        \n",
      "                                                                 \n",
      " dense_16 (Dense)            (None, 1)                 9         \n",
      "                                                                 \n",
      " dense_17 (Dense)            (None, 12)                24        \n",
      "                                                                 \n",
      " dense_18 (Dense)            (None, 8)                 104       \n",
      "                                                                 \n",
      " dense_19 (Dense)            (None, 8)                 72        \n",
      "                                                                 \n",
      " dense_20 (Dense)            (None, 1)                 9         \n",
      "                                                                 \n",
      "=================================================================\n",
      "Total params: 1516 (5.92 KB)\n",
      "Trainable params: 1516 (5.92 KB)\n",
      "Non-trainable params: 0 (0.00 Byte)\n",
      "_________________________________________________________________\n"
     ]
    }
   ],
   "source": [
    "model.summary()"
   ]
  },
  {
   "cell_type": "code",
   "execution_count": null,
   "id": "232f5882-b4aa-4264-8f6b-5264288e602f",
   "metadata": {},
   "outputs": [],
   "source": []
  }
 ],
 "metadata": {
  "kernelspec": {
   "display_name": "Python 3 (ipykernel)",
   "language": "python",
   "name": "python3"
  },
  "language_info": {
   "codemirror_mode": {
    "name": "ipython",
    "version": 3
   },
   "file_extension": ".py",
   "mimetype": "text/x-python",
   "name": "python",
   "nbconvert_exporter": "python",
   "pygments_lexer": "ipython3",
   "version": "3.10.12"
  }
 },
 "nbformat": 4,
 "nbformat_minor": 5
}
